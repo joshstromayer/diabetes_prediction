{
 "cells": [
  {
   "cell_type": "code",
   "execution_count": 6,
   "id": "9f5d1d98-25e9-4b22-8628-d30a3e01b8ae",
   "metadata": {},
   "outputs": [
    {
     "name": "stdout",
     "output_type": "stream",
     "text": [
      "Total human creatures: age                            100000\n",
      "hypertension                   100000\n",
      "heart_disease                  100000\n",
      "bmi                            100000\n",
      "HbA1c_level                    100000\n",
      "blood_glucose_level            100000\n",
      "diabetes                       100000\n",
      "gender_Female                  100000\n",
      "gender_Male                    100000\n",
      "gender_Other                   100000\n",
      "smoking_history_current        100000\n",
      "smoking_history_ever           100000\n",
      "smoking_history_former         100000\n",
      "smoking_history_never          100000\n",
      "smoking_history_not current    100000\n",
      "dtype: int64\n",
      "Has diabetes: 8500\n",
      "Does not have diabetes: 91500\n"
     ]
    }
   ],
   "source": [
    "import pandas as pd\n",
    "df = pd.read_csv(\"encoded_data.csv\")\n",
    "\n",
    "print(f\"Total human creatures: {df.count()}\")\n",
    "print(f\"Has diabetes: {df[\"diabetes\"].sum()}\")\n",
    "print(f\"Does not have diabetes: {df[\"diabetes\"].count()-df[\"diabetes\"].sum()}\")"
   ]
  }
 ],
 "metadata": {
  "kernelspec": {
   "display_name": "venv",
   "language": "python",
   "name": "python3"
  },
  "language_info": {
   "codemirror_mode": {
    "name": "ipython",
    "version": 3
   },
   "file_extension": ".py",
   "mimetype": "text/x-python",
   "name": "python",
   "nbconvert_exporter": "python",
   "pygments_lexer": "ipython3",
   "version": "3.12.8"
  }
 },
 "nbformat": 4,
 "nbformat_minor": 5
}
